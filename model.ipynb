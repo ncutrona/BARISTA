{
 "cells": [
  {
   "cell_type": "markdown",
   "metadata": {},
   "source": [
    "# Regularized Proximal Descent Based Model Framework"
   ]
  },
  {
   "cell_type": "code",
   "execution_count": 18,
   "metadata": {},
   "outputs": [],
   "source": [
    "%reload_ext autoreload\n",
    "%autoreload 2"
   ]
  },
  {
   "cell_type": "code",
   "execution_count": 19,
   "metadata": {},
   "outputs": [],
   "source": [
    "#Importing Needed Libraries\n",
    "import framework\n",
    "import pandas as pd\n",
    "import numpy as np\n",
    "from sklearn.model_selection import train_test_split"
   ]
  },
  {
   "cell_type": "markdown",
   "metadata": {},
   "source": [
    "**Load Your Data**\n",
    "\n",
    "The framework assumes all pre-processing has been done by the user. Simply load, and split your data as a Pandas DataFrame."
   ]
  },
  {
   "cell_type": "code",
   "execution_count": 20,
   "metadata": {},
   "outputs": [],
   "source": [
    "#Load your Data \n",
    "#file_path = ''\n",
    "#data = pd.read_csv(file_path)\n",
    "#labels = data['']\n",
    "#samples = data.drop([''], axis = 1)'''"
   ]
  },
  {
   "cell_type": "code",
   "execution_count": 21,
   "metadata": {},
   "outputs": [],
   "source": [
    "#Load your Data -- Example\n",
    "file_path = '/Users/nicolascutrona/Downloads/heart.csv'\n",
    "data = pd.read_csv(file_path)\n",
    "data = data.drop(['Age', 'RestingBP', 'Cholesterol', 'FastingBS', 'MaxHR', 'Oldpeak'], axis = 1)\n",
    "labels = data['HeartDisease']\n",
    "samples = data.drop(['HeartDisease'], axis = 1)"
   ]
  },
  {
   "cell_type": "code",
   "execution_count": 22,
   "metadata": {},
   "outputs": [],
   "source": [
    "#Split your Data\n",
    "X,y = samples, labels\n",
    "X_train, X_test, y_train, y_test = train_test_split(X, y, test_size=0.33, random_state=42)\n",
    "\n",
    "X_train = X_train.reset_index(drop=True)\n",
    "X_test = X_test.reset_index(drop=True)\n",
    "y_train = y_train.reset_index(drop=True)\n",
    "y_test = y_test.reset_index(drop=True)"
   ]
  },
  {
   "cell_type": "markdown",
   "metadata": {},
   "source": [
    "**Hyper-Paramter Selection**\n",
    "\n",
    "Select the hyper-parameters for model learning:\n",
    "\n",
    "*Convergence Constant*: A small pre-defined constant that represents the change in model loss per iteration\n",
    "\n",
    "*Max Iterations*: Select the number of iterations for the model; few iterations may result in non-convergance\n",
    "\n",
    "*learning Rate*: Give a predefined Learning Rate (Will implement line search WIP)\n",
    "\n",
    "*Lambda Term*: Give a specified penalty value (Lambda) for the L1 penalty induced on the class-specific attribute weights (Will implement CV for paramter selection WIP)"
   ]
  },
  {
   "cell_type": "code",
   "execution_count": 23,
   "metadata": {},
   "outputs": [],
   "source": [
    "#Hpyer Parameter Selections (Current Version)\n",
    "convergence = 1e-3\n",
    "max_iterations = 1000\n",
    "learning_rate = 0.01\n",
    "lambda_term = 0.01"
   ]
  },
  {
   "cell_type": "markdown",
   "metadata": {},
   "source": [
    "**MODEL FRAMEWORK OUTPUT**\n",
    "\n",
    "Run the RPNB Framework as shown below.\n",
    "\n",
    "The output will contain the following:\n",
    "\n",
    "*Iteration*: The iteration number of model learning\n",
    "\n",
    "*Posterior Cache First Sample*: The first sample posterior distribution\n",
    "\n",
    "*Weight Matrix*: The current weight matrix corresponding to class-specific attributes during model learning\n",
    "\n",
    "*Gradient Weight Matrix Norm*: The norm of the gradient corresponding to the weight matrix. This should be close to zero as model learning progresses, as we hope to find some minimum\n",
    "\n",
    "*Model Less*: Model loss with respect to the current iteration\n",
    "\n",
    "*Converged* Boolean convergence check variable"
   ]
  },
  {
   "cell_type": "code",
   "execution_count": 24,
   "metadata": {},
   "outputs": [
    {
     "name": "stdout",
     "output_type": "stream",
     "text": [
      "_Computing Model Parameters_...\n",
      "\n",
      "_Optimizing_...\n",
      "\n",
      "Iteration: 1\n",
      "Posterior Cache First Sample: [0.6191644799274885, 0.3808355200725114]\n",
      "Weight Matrix: [[1.00244014 1.00726185 0.99493537 0.98020189 1.01018955]\n",
      " [1.00005816 0.96995034 1.00267566 0.98634255 1.01653524]]\n",
      "Gradient Weight Matrix Norm: 9.970591\n",
      "Model Loss: 71.78376145774368\n",
      "Converged: False\n",
      "=================================================================\n",
      "Iteration: 2\n",
      "Posterior Cache First Sample: [0.6056181303050305, 0.39438186969496936]\n",
      "Weight Matrix: [[1.00321696 1.00964744 0.98682636 0.96036424 1.01449915]\n",
      " [1.00175442 0.94735003 1.00836155 0.97587393 1.03306285]]\n",
      "Gradient Weight Matrix Norm: 9.940957\n",
      "Model Loss: 71.51628963942471\n",
      "Converged: False\n",
      "=================================================================\n",
      "Iteration: 3\n",
      "Posterior Cache First Sample: [0.5959450266703864, 0.40405497332961365]\n",
      "Weight Matrix: [[1.00373226 1.01079209 0.97836256 0.94154431 1.01653053]\n",
      " [1.00371415 0.92823852 1.01441694 0.96625514 1.04755975]]\n",
      "Gradient Weight Matrix Norm: 9.911146\n",
      "Model Loss: 71.29971456177354\n",
      "Converged: False\n",
      "=================================================================\n",
      "Iteration: 4\n",
      "Posterior Cache First Sample: [0.5879683392783315, 0.41203166072166864]\n",
      "Weight Matrix: [[1.00434297 1.01166932 0.97023363 0.92401342 1.01732303]\n",
      " [1.00558884 0.91139533 1.02016492 0.95689019 1.05968778]]\n",
      "Gradient Weight Matrix Norm: 9.881309\n",
      "Model Loss: 71.12284935161172\n",
      "Converged: False\n",
      "=================================================================\n",
      "Iteration: 5\n",
      "Posterior Cache First Sample: [0.581042878378102, 0.4189571216218981]\n",
      "Weight Matrix: [[1.00512109 1.01253275 0.962589   0.90779938 1.01721832]\n",
      " [1.0073111  0.8963588  1.02546039 0.94764724 1.06956234]]\n",
      "Gradient Weight Matrix Norm: 9.8516\n",
      "Model Loss: 70.97765490997273\n",
      "Converged: False\n",
      "=================================================================\n",
      "Iteration: 6\n",
      "Posterior Cache First Sample: [0.5749489023532967, 0.4250510976467033]\n",
      "Weight Matrix: [[1.00606332 1.01343853 0.95543144 0.89284494 1.0163653 ]\n",
      " [1.00888538 0.88288254 1.03030256 0.93851199 1.07741153]]\n",
      "Gradient Weight Matrix Norm: 9.822138\n",
      "Model Loss: 70.85752650791866\n",
      "Converged: False\n",
      "=================================================================\n",
      "Iteration: 7\n",
      "Posterior Cache First Sample: [0.5695825215600094, 0.4304174784399906]\n",
      "Weight Matrix: [[1.00714908 1.01438898 0.94872568 0.87906067 1.01485904]\n",
      " [1.01032997 0.87078626 1.03472766 0.92949478 1.08347979]]\n",
      "Gradient Weight Matrix Norm: 9.793002\n",
      "Model Loss: 70.75707291617572\n",
      "Converged: False\n",
      "=================================================================\n",
      "Iteration: 8\n",
      "Posterior Cache First Sample: [0.5648707857285543, 0.43512921427144574]\n",
      "Weight Matrix: [[1.0083563  1.01537244 0.94242889 0.86634575 1.01277825]\n",
      " [1.01166197 0.8599156  1.03877894 0.92060698 1.08800012]]\n",
      "Gradient Weight Matrix Norm: 9.764245\n",
      "Model Loss: 70.67197012867148\n",
      "Converged: False\n",
      "=================================================================\n",
      "Iteration: 9\n",
      "Posterior Cache First Sample: [0.5607494800312134, 0.43925051996878667]\n",
      "Weight Matrix: [[1.00966532 1.01637442 0.93649917 0.85459764 1.0101948 ]\n",
      " [1.0128942  0.85013174 1.04249817 0.91185615 1.09118609]]\n",
      "Gradient Weight Matrix Norm: 9.735898\n",
      "Model Loss: 70.59880648963032\n",
      "Converged: False\n",
      "=================================================================\n",
      "Iteration: 10\n",
      "Posterior Cache First Sample: [0.5571581003570523, 0.4428418996429478]\n",
      "Weight Matrix: [[1.01105959 1.01738082 0.93089809 0.84371733 1.00717564]\n",
      " [1.0140354  0.8413088  1.04592337 0.90324596 1.0932299 ]]\n",
      "Gradient Weight Matrix Norm: 9.707975\n",
      "Model Loss: 70.53492814919274\n",
      "Converged: True\n",
      "=================================================================\n",
      "Regularized Naive Bayes Training Accuracy: 0.8536585365853658\n",
      "Regularized Naive Bayes Testing Accuracy: 0.8514851485148515\n"
     ]
    }
   ],
   "source": [
    "#Run Model Framework\n",
    "model = framework.Framework(X_train, y_train, X_test, y_test, max_iterations, convergence, learning_rate, lambda_term)\n",
    "print(\"Regularized Naive Bayes Training Accuracy:\", model.train_accuracy)\n",
    "print(\"Regularized Naive Bayes Testing Accuracy:\", model.test_accuracy)"
   ]
  },
  {
   "cell_type": "markdown",
   "metadata": {},
   "source": [
    "**Vanilla Naive Bayes Comparison**"
   ]
  },
  {
   "cell_type": "code",
   "execution_count": 25,
   "metadata": {},
   "outputs": [],
   "source": [
    "#Hpyer Parameter Selections (Current Version)\n",
    "convergence = 1e-3\n",
    "max_iterations = 0\n",
    "learning_rate = 0.01\n",
    "lambda_term = 0.01"
   ]
  },
  {
   "cell_type": "code",
   "execution_count": 26,
   "metadata": {
    "scrolled": true
   },
   "outputs": [
    {
     "name": "stdout",
     "output_type": "stream",
     "text": [
      "_Computing Model Parameters_...\n",
      "\n",
      "Vanilla Naive Bayes Training Accuracy: 0.8471544715447155\n",
      "Vanilla Naive Bayes Testing Accuracy: 0.834983498349835\n"
     ]
    }
   ],
   "source": [
    "#Vanilla Naive Bayes\n",
    "model = framework.Framework(X_train, y_train, X_test, y_test, max_iterations, convergence, learning_rate, lambda_term)\n",
    "print(\"Vanilla Naive Bayes Training Accuracy:\", model.train_accuracy)\n",
    "print(\"Vanilla Naive Bayes Testing Accuracy:\", model.test_accuracy)"
   ]
  },
  {
   "cell_type": "code",
   "execution_count": null,
   "metadata": {},
   "outputs": [],
   "source": []
  }
 ],
 "metadata": {
  "kernelspec": {
   "display_name": "3.7env",
   "language": "python",
   "name": "3.7env"
  },
  "language_info": {
   "codemirror_mode": {
    "name": "ipython",
    "version": 3
   },
   "file_extension": ".py",
   "mimetype": "text/x-python",
   "name": "python",
   "nbconvert_exporter": "python",
   "pygments_lexer": "ipython3",
   "version": "3.8.5"
  }
 },
 "nbformat": 4,
 "nbformat_minor": 4
}
