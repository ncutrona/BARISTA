{
 "cells": [
  {
   "cell_type": "markdown",
   "metadata": {},
   "source": [
    "# Bayesian Regularized Iterative Soft Thresholding Algorithm"
   ]
  },
  {
   "cell_type": "markdown",
   "metadata": {},
   "source": [
    "### How to Run"
   ]
  },
  {
   "attachments": {},
   "cell_type": "markdown",
   "metadata": {},
   "source": [
    "The BARISTA algorithm is a class-specific attribute weighted Naive Bayes framework designed to mitigate overfitting and alleviate the conditional independence assumption of Naive Bayes. This is a brief tutorial on how to run the model.\n",
    "\n",
    "**Data Importing**\n",
    "\n",
    "Please upload your data from a csv file into a pandas dataframe."
   ]
  },
  {
   "cell_type": "code",
   "execution_count": 29,
   "metadata": {},
   "outputs": [],
   "source": [
    "import pandas as pd\n",
    "breast_w = pd.read_csv('/filepath/breast_w.csv')"
   ]
  },
  {
   "cell_type": "markdown",
   "metadata": {},
   "source": [
    "**Pre-processing**\n",
    "\n",
    "Missing values are imputed with the mean value or max frequency depending on the attribute type. Numerical attributes are discretized using the MDL discretization technique (see our paper for details). Pass in the dataset, the target attribute column name as a string, and a list of attribute column names that are numerical; in this case there are none). Next, use the get_data function to get a design matrix, $X$ and a vector of labels, $y$. Finally, we split the data in a testing set and a training set to evaluate generalization performance."
   ]
  },
  {
   "cell_type": "code",
   "execution_count": 30,
   "metadata": {},
   "outputs": [],
   "source": [
    "import preprocess\n",
    "breast_w = preprocess.Preprocess(breast_w, \"Class\", [])\n",
    "X, y = breast_w.get_data()\n",
    "\n",
    "from sklearn.model_selection import train_test_split\n",
    "X_train, X_test, y_train, y_test = train_test_split(X, y, test_size=0.25, random_state=42)\n",
    "X_train = X_train.reset_index(drop = True)\n",
    "y_train = y_train.reset_index(drop = True)\n",
    "X_test = X_test.reset_index(drop = True)\n",
    "y_test = y_test.reset_index(drop = True)"
   ]
  },
  {
   "cell_type": "markdown",
   "metadata": {},
   "source": [
    "**Fitting the Data**\n",
    "\n",
    "We can now fit the training data using the BARISTA algorithm. Once the fit method is used, the optimization procedure will be used. For parameter details, see the readMe file."
   ]
  },
  {
   "cell_type": "code",
   "execution_count": null,
   "metadata": {},
   "outputs": [],
   "source": [
    "import BARISTA\n",
    "\n",
    "barista = BARISTA.BARISTA()\n",
    "barista.fit(training_samples = X_train, training_labels = y_train, scheme = 'FISTA', \n",
    "                    learning_rate = 0.1, convergence_constant= 1e-6, max_iterations = 5000, \n",
    "                    l1_penalty = 0.01, l2_penalty = 0.001)"
   ]
  },
  {
   "cell_type": "markdown",
   "metadata": {},
   "source": [
    "**Classification Performance**\n",
    "\n",
    "Now that the data has been fit, we can classify the testing instances. We also provide an accuracy score."
   ]
  },
  {
   "cell_type": "code",
   "execution_count": 33,
   "metadata": {},
   "outputs": [
    {
     "name": "stdout",
     "output_type": "stream",
     "text": [
      "Testing Accuracy: 0.9657142857142857\n"
     ]
    }
   ],
   "source": [
    "barista.predict(X_test, y_test)\n",
    "print(\"Testing Accuracy:\", barista.accuracy)"
   ]
  }
 ],
 "metadata": {
  "kernelspec": {
   "display_name": "python3.8-kernel",
   "language": "python",
   "name": "python3.8-kernel"
  },
  "language_info": {
   "codemirror_mode": {
    "name": "ipython",
    "version": 3
   },
   "file_extension": ".py",
   "mimetype": "text/x-python",
   "name": "python",
   "nbconvert_exporter": "python",
   "pygments_lexer": "ipython3",
   "version": "3.7.0"
  }
 },
 "nbformat": 4,
 "nbformat_minor": 4
}
